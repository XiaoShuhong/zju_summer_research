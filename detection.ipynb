{
 "cells": [
  {
   "cell_type": "code",
   "execution_count": 145,
   "id": "04791933-9137-4e94-a3ec-a193eefc7b88",
   "metadata": {},
   "outputs": [],
   "source": [
    "from __future__ import print_function\n",
    "import cv2\n",
    "import numpy as np\n",
    "from skimage.metrics import structural_similarity\n",
    "import matplotlib.pyplot as plt\n",
    "from cv2 import cv2 as cv2\n",
    "from PIL import Image\n",
    "import imagehash\n",
    "from moviepy.editor import VideoFileClip\n"
   ]
  },
  {
   "cell_type": "code",
   "execution_count": 146,
   "id": "ea76bf0b-87c3-45a6-b607-0ed9587c64ba",
   "metadata": {},
   "outputs": [],
   "source": [
    "videoCapture = cv2.VideoCapture('C:/Users/11488/Desktop/zju/testvedio.mp4')"
   ]
  },
  {
   "cell_type": "code",
   "execution_count": 147,
   "id": "a0f52922-3a1e-4b10-8793-68b5b28be3d9",
   "metadata": {},
   "outputs": [],
   "source": [
    "up=0\n",
    "down=0\n",
    "new_scene=[]"
   ]
  },
  {
   "cell_type": "code",
   "execution_count": 148,
   "id": "4aa7aa11-18e4-41e9-a649-4550a624fabf",
   "metadata": {},
   "outputs": [],
   "source": [
    "fps = videoCapture.get(cv2.CAP_PROP_FPS)"
   ]
  },
  {
   "cell_type": "code",
   "execution_count": 149,
   "id": "dd78a6cb-b384-43bf-a2e3-67cc34818d8d",
   "metadata": {},
   "outputs": [
    {
     "data": {
      "text/plain": [
       "30.195240615752535"
      ]
     },
     "execution_count": 149,
     "metadata": {},
     "output_type": "execute_result"
    }
   ],
   "source": [
    "fps"
   ]
  },
  {
   "cell_type": "code",
   "execution_count": 150,
   "id": "9bba3b6e-6a8f-49ca-bc05-495a9c9b6194",
   "metadata": {},
   "outputs": [],
   "source": [
    "success, img1= videoCapture.read()"
   ]
  },
  {
   "cell_type": "code",
   "execution_count": 151,
   "id": "7d045107-25ee-4465-b148-395b7781b21d",
   "metadata": {},
   "outputs": [
    {
     "data": {
      "text/plain": [
       "True"
      ]
     },
     "execution_count": 151,
     "metadata": {},
     "output_type": "execute_result"
    }
   ],
   "source": [
    "success"
   ]
  },
  {
   "cell_type": "code",
   "execution_count": 198,
   "id": "53a83af1-d584-4862-a117-7d116b708c93",
   "metadata": {},
   "outputs": [
    {
     "data": {
      "text/plain": [
       "array([[[ True,  True,  True],\n",
       "        [ True,  True,  True],\n",
       "        [ True,  True,  True],\n",
       "        ...,\n",
       "        [ True,  True,  True],\n",
       "        [ True,  True,  True],\n",
       "        [ True,  True,  True]],\n",
       "\n",
       "       [[ True,  True,  True],\n",
       "        [ True,  True,  True],\n",
       "        [ True,  True,  True],\n",
       "        ...,\n",
       "        [ True,  True,  True],\n",
       "        [ True,  True,  True],\n",
       "        [ True,  True,  True]],\n",
       "\n",
       "       [[ True,  True,  True],\n",
       "        [ True,  True,  True],\n",
       "        [ True,  True,  True],\n",
       "        ...,\n",
       "        [ True,  True,  True],\n",
       "        [ True,  True,  True],\n",
       "        [ True,  True,  True]],\n",
       "\n",
       "       ...,\n",
       "\n",
       "       [[ True,  True,  True],\n",
       "        [ True,  True,  True],\n",
       "        [ True,  True,  True],\n",
       "        ...,\n",
       "        [ True,  True,  True],\n",
       "        [ True,  True,  True],\n",
       "        [ True,  True,  True]],\n",
       "\n",
       "       [[ True,  True,  True],\n",
       "        [ True,  True,  True],\n",
       "        [ True,  True,  True],\n",
       "        ...,\n",
       "        [ True,  True,  True],\n",
       "        [ True,  True,  True],\n",
       "        [ True,  True,  True]],\n",
       "\n",
       "       [[ True,  True,  True],\n",
       "        [ True,  True,  True],\n",
       "        [ True,  True,  True],\n",
       "        ...,\n",
       "        [ True,  True,  True],\n",
       "        [ True,  True,  True],\n",
       "        [ True,  True,  True]]])"
      ]
     },
     "execution_count": 198,
     "metadata": {},
     "output_type": "execute_result"
    }
   ],
   "source": []
  },
  {
   "cell_type": "code",
   "execution_count": 153,
   "id": "e2698445-27ff-4575-bcea-e565fe0d556c",
   "metadata": {},
   "outputs": [],
   "source": [
    "i = 0\n",
    "while i<300:\n",
    "    success, img2 = videoCapture.read()\n",
    "    i+=1"
   ]
  },
  {
   "cell_type": "code",
   "execution_count": 154,
   "id": "e62fa0e0-d62a-4a6e-8037-5527efd36e66",
   "metadata": {},
   "outputs": [
    {
     "data": {
      "text/plain": [
       "(1152, 1920, 3)"
      ]
     },
     "execution_count": 154,
     "metadata": {},
     "output_type": "execute_result"
    }
   ],
   "source": [
    "img2.shape"
   ]
  },
  {
   "cell_type": "code",
   "execution_count": 155,
   "id": "b2ef435b-eb9c-4793-89b4-9b030fab4096",
   "metadata": {},
   "outputs": [],
   "source": [
    "orb = cv2.ORB_create(5000)"
   ]
  },
  {
   "cell_type": "code",
   "execution_count": null,
   "id": "35beb48d-652a-4e56-aa1a-71e159bfc439",
   "metadata": {},
   "outputs": [],
   "source": []
  },
  {
   "cell_type": "code",
   "execution_count": null,
   "id": "9f4b8cfa-b5da-4c96-9b95-5fa35812d124",
   "metadata": {},
   "outputs": [],
   "source": []
  },
  {
   "cell_type": "code",
   "execution_count": 156,
   "id": "4e870e98-9be0-4ad9-9ccc-98d07a31d3c5",
   "metadata": {},
   "outputs": [],
   "source": [
    "img1 = img1[150:850,:]\n",
    "img2= img2[150:850,:]\n",
    "kp1, des1 = orb.detectAndCompute(img1,None)\n",
    "kp2, des2 = orb.detectAndCompute(img2,None)"
   ]
  },
  {
   "cell_type": "code",
   "execution_count": 157,
   "id": "24ca086e-8d85-4b5d-ab00-697c9e34b71f",
   "metadata": {},
   "outputs": [],
   "source": [
    "bf = cv2.BFMatcher(cv2.NORM_HAMMING)"
   ]
  },
  {
   "cell_type": "code",
   "execution_count": 158,
   "id": "56033757-6efd-4cd4-a986-d840bb817746",
   "metadata": {},
   "outputs": [
    {
     "data": {
      "image/png": "[encoded data removed]",
      "text/plain": [
       "<Figure size 432x288 with 1 Axes>"
      ]
     },
     "metadata": {
      "needs_background": "light"
     },
     "output_type": "display_data"
    }
   ],
   "source": [
    "# match = bf.match(des1,des2)\n",
    "# match = sorted(match, key = lambda x:x.distance)\n",
    "# img3 = cv2.drawMatches(img1,kp1,img2,kp2,match[:10],None,flags=2)\n",
    "# cv2.imwrite('test3.jpg',img3)\n",
    "# plt.imshow(img3)\n",
    "# plt.show()"
   ]
  },
  {
   "cell_type": "code",
   "execution_count": 159,
   "id": "1eafb99b-c118-4ebd-992c-79349fbd0ae3",
   "metadata": {},
   "outputs": [],
   "source": [
    "matches = bf.knnMatch(des1, trainDescriptors = des2, k = 2)"
   ]
  },
  {
   "cell_type": "code",
   "execution_count": 165,
   "id": "f8adf3e5-98fa-47a5-9fe3-0c2d0d143de4",
   "metadata": {},
   "outputs": [
    {
     "data": {
      "text/plain": [
       "104"
      ]
     },
     "execution_count": 165,
     "metadata": {},
     "output_type": "execute_result"
    }
   ],
   "source": [
    "good = [m for (m,n) in matches if m.distance < 0.35*n.distance]\n",
    "len(good)\n"
   ]
  },
  {
   "cell_type": "code",
   "execution_count": 192,
   "id": "c6e2c5aa-6ce8-46ef-86e4-5a8c348de712",
   "metadata": {},
   "outputs": [
    {
     "data": {
      "text/plain": [
       "(104, 1, 2)"
      ]
     },
     "execution_count": 192,
     "metadata": {},
     "output_type": "execute_result"
    }
   ],
   "source": [
    "(a-b).shape"
   ]
  },
  {
   "cell_type": "code",
   "execution_count": 194,
   "id": "7266975e-9a9c-40af-8979-cd7bd91032c9",
   "metadata": {},
   "outputs": [
    {
     "data": {
      "text/plain": [
       "array([   0.    , 3675.9604], dtype=float32)"
      ]
     },
     "execution_count": 194,
     "metadata": {},
     "output_type": "execute_result"
    }
   ],
   "source": [
    "(a-b).sum(axis=0)[0]"
   ]
  },
  {
   "cell_type": "code",
   "execution_count": 182,
   "id": "bb83b4ba-ca05-451d-af18-a9bc1ea93e27",
   "metadata": {},
   "outputs": [
    {
     "data": {
      "text/plain": [
       "[52]"
      ]
     },
     "execution_count": 182,
     "metadata": {},
     "output_type": "execute_result"
    }
   ],
   "source": [
    "[int(len(a)/2)]"
   ]
  },
  {
   "cell_type": "code",
   "execution_count": 89,
   "id": "76a4055c-91ec-44f5-81d7-1e44e7006539",
   "metadata": {},
   "outputs": [
    {
     "data": {
      "text/plain": [
       "(<KeyPoint 000002A6948819C0>, <KeyPoint 000002A694881E70>)"
      ]
     },
     "execution_count": 89,
     "metadata": {},
     "output_type": "execute_result"
    }
   ],
   "source": [
    "kp1[0],kp1[1]"
   ]
  },
  {
   "cell_type": "code",
   "execution_count": 59,
   "id": "208b040a-d8e2-4e21-9731-100de96118ef",
   "metadata": {},
   "outputs": [],
   "source": [
    "import copy"
   ]
  },
  {
   "cell_type": "code",
   "execution_count": 70,
   "id": "c00f7285-f0f6-422a-9a98-ef0b6f4bb2f7",
   "metadata": {},
   "outputs": [],
   "source": [
    "keyp_without_size = copy.copy(img1)\n",
    "keyp_with_size = copy.copy(img1)"
   ]
  },
  {
   "cell_type": "code",
   "execution_count": 71,
   "id": "b42dde03-4c43-447c-a64f-8a1ea46d8b7d",
   "metadata": {},
   "outputs": [
    {
     "data": {
      "text/plain": [
       "array([[[ 37,  17,   7],\n",
       "        [ 37,  17,   7],\n",
       "        [ 37,  17,   7],\n",
       "        ...,\n",
       "        [192, 192, 192],\n",
       "        [241, 241, 241],\n",
       "        [242, 242, 242]],\n",
       "\n",
       "       [[ 37,  17,   7],\n",
       "        [ 37,  17,   7],\n",
       "        [ 37,  17,   7],\n",
       "        ...,\n",
       "        [192, 192, 192],\n",
       "        [241, 241, 241],\n",
       "        [242, 242, 242]],\n",
       "\n",
       "       [[ 37,  17,   7],\n",
       "        [ 37,  17,   7],\n",
       "        [ 37,  17,   7],\n",
       "        ...,\n",
       "        [192, 192, 192],\n",
       "        [241, 241, 241],\n",
       "        [242, 242, 242]],\n",
       "\n",
       "       ...,\n",
       "\n",
       "       [[246, 246, 246],\n",
       "        [246, 246, 246],\n",
       "        [246, 246, 246],\n",
       "        ...,\n",
       "        [241, 241, 241],\n",
       "        [241, 241, 241],\n",
       "        [241, 241, 241]],\n",
       "\n",
       "       [[246, 246, 246],\n",
       "        [246, 246, 246],\n",
       "        [246, 246, 246],\n",
       "        ...,\n",
       "        [241, 241, 241],\n",
       "        [241, 241, 241],\n",
       "        [241, 241, 241]],\n",
       "\n",
       "       [[246, 246, 246],\n",
       "        [246, 246, 246],\n",
       "        [246, 246, 246],\n",
       "        ...,\n",
       "        [241, 241, 241],\n",
       "        [241, 241, 241],\n",
       "        [241, 241, 241]]], dtype=uint8)"
      ]
     },
     "execution_count": 71,
     "metadata": {},
     "output_type": "execute_result"
    }
   ],
   "source": [
    "cv2.drawKeypoints(img1, kp1, keyp_without_size, color = (0, 255, 0))"
   ]
  },
  {
   "cell_type": "code",
   "execution_count": 72,
   "id": "b3d0d6a6-95b8-490e-867b-58ce5757dd18",
   "metadata": {},
   "outputs": [
    {
     "data": {
      "text/plain": [
       "array([[[ 37,  17,   7],\n",
       "        [ 37,  17,   7],\n",
       "        [ 37,  17,   7],\n",
       "        ...,\n",
       "        [192, 192, 192],\n",
       "        [241, 241, 241],\n",
       "        [242, 242, 242]],\n",
       "\n",
       "       [[ 37,  17,   7],\n",
       "        [ 37,  17,   7],\n",
       "        [ 37,  17,   7],\n",
       "        ...,\n",
       "        [192, 192, 192],\n",
       "        [241, 241, 241],\n",
       "        [242, 242, 242]],\n",
       "\n",
       "       [[ 37,  17,   7],\n",
       "        [ 37,  17,   7],\n",
       "        [ 37,  17,   7],\n",
       "        ...,\n",
       "        [192, 192, 192],\n",
       "        [241, 241, 241],\n",
       "        [242, 242, 242]],\n",
       "\n",
       "       ...,\n",
       "\n",
       "       [[246, 246, 246],\n",
       "        [246, 246, 246],\n",
       "        [246, 246, 246],\n",
       "        ...,\n",
       "        [241, 241, 241],\n",
       "        [241, 241, 241],\n",
       "        [241, 241, 241]],\n",
       "\n",
       "       [[246, 246, 246],\n",
       "        [246, 246, 246],\n",
       "        [246, 246, 246],\n",
       "        ...,\n",
       "        [241, 241, 241],\n",
       "        [241, 241, 241],\n",
       "        [241, 241, 241]],\n",
       "\n",
       "       [[246, 246, 246],\n",
       "        [246, 246, 246],\n",
       "        [246, 246, 246],\n",
       "        ...,\n",
       "        [241, 241, 241],\n",
       "        [241, 241, 241],\n",
       "        [241, 241, 241]]], dtype=uint8)"
      ]
     },
     "execution_count": 72,
     "metadata": {},
     "output_type": "execute_result"
    }
   ],
   "source": [
    "cv2.drawKeypoints(img1, kp1, keyp_with_size, flags = cv2.DRAW_MATCHES_FLAGS_DRAW_RICH_KEYPOINTS)"
   ]
  },
  {
   "cell_type": "code",
   "execution_count": 75,
   "id": "5dcd9472-e340-42bc-b656-ccaf78b7f5c5",
   "metadata": {},
   "outputs": [
    {
     "data": {
      "text/plain": [
       "True"
      ]
     },
     "execution_count": 75,
     "metadata": {},
     "output_type": "execute_result"
    },
    {
     "data": {
      "image/png": "[encoded data removed]",
      "text/plain": [
       "<Figure size 432x288 with 1 Axes>"
      ]
     },
     "metadata": {
      "needs_background": "light"
     },
     "output_type": "display_data"
    }
   ],
   "source": [
    "cv2.imwrite('test1.jpg',keyp_without_size)\n",
    "plt.subplot(121)\n",
    "# keyp_without_size = cv2.resize(keyp_without_size,None,fx=4,fy=4)\n",
    "# plt.title('Keypoints Without Size or Orientation')\n",
    "plt.imshow(keyp_without_size)\n",
    "cv2.imwrite('test2.jpg',keyp_with_size)\n",
    "# # Display the image with the keypoints with size and orientation\n",
    "# plt.subplot(122)\n",
    "# plt.title('Keypoints With Size and Orientation')\n",
    "# plt.imshow(keyp_with_size)\n",
    "# plt.show()\n"
   ]
  },
  {
   "cell_type": "markdown",
   "id": "f6914c6b-f6b1-439f-9e4b-0b5d8e9354f0",
   "metadata": {},
   "source": [
    "## start here"
   ]
  },
  {
   "cell_type": "code",
   "execution_count": null,
   "id": "e4fd2fd0-a772-43eb-b199-a7e2441b35e1",
   "metadata": {},
   "outputs": [],
   "source": [
    "up=0\n",
    "down=0\n",
    "left=0\n",
    "right=0"
   ]
  }
 ],
 "metadata": {
  "kernelspec": {
   "display_name": "Python 3",
   "language": "python",
   "name": "python3"
  },
  "language_info": {
   "codemirror_mode": {
    "name": "ipython",
    "version": 3
   },
   "file_extension": ".py",
   "mimetype": "text/x-python",
   "name": "python",
   "nbconvert_exporter": "python",
   "pygments_lexer": "ipython3",
   "version": "3.8.8"
  }
 },
 "nbformat": 4,
 "nbformat_minor": 5
}
