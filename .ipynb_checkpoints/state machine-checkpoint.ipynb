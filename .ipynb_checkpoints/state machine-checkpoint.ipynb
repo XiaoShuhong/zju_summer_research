{
 "cells": [
  {
   "cell_type": "code",
   "execution_count": 1,
   "id": "7629f4f6-0da6-4dd0-8db0-67de85ece998",
   "metadata": {},
   "outputs": [],
   "source": [
    "from __future__ import print_function"
   ]
  },
  {
   "cell_type": "code",
   "execution_count": 39,
   "id": "ed372e02-7055-4a0b-a6d3-2c43d3acff74",
   "metadata": {},
   "outputs": [],
   "source": [
    "# movement：stay, scroll_up,scroll_down,scroll_left,scroll_right,tap_in,view_produ_pic,click_and_buy "
   ]
  },
  {
   "cell_type": "code",
   "execution_count": 40,
   "id": "7b915c9a-85f3-489f-9f6e-364437600d01",
   "metadata": {},
   "outputs": [],
   "source": [
    "# state: market1,market2, product_page, exit1,exit2\n"
   ]
  },
  {
   "cell_type": "code",
   "execution_count": 2,
   "id": "b51b8342-5b8c-4bb4-ab6a-652c47c5dc57",
   "metadata": {},
   "outputs": [],
   "source": [
    "from transitions import Machine\n"
   ]
  },
  {
   "cell_type": "code",
   "execution_count": 87,
   "id": "b8832f39-6fa0-4b5a-b5dc-9c6ca0164440",
   "metadata": {},
   "outputs": [],
   "source": [
    "class shopping(object):\n",
    "    states=['market1','market2', 'product_page', 'exit1','exit2']\n",
    "    def __init__(self,name,fps,action):\n",
    "        self.name=name\n",
    "        self.fps=fps\n",
    "        self.movement={0:'stay',1:'scroll_up',2:'scroll_down',3:'scroll_left',4:'scroll_right',5:'tap_in',6:'view_produ_pic',7:'click_and_buy'}\n",
    "        self.action=action\n",
    "        self.list_main=[]\n",
    "        self.list_product=[]\n",
    "        self.click_num=0\n",
    "        self.stay_main_time=0\n",
    "        self.stay_product_time=0\n",
    "        \n",
    "        #initializer\n",
    "        self.machine=Machine(model=self,states=shopping.states,initial='market1')\n",
    "        #some transition\n",
    "            #stay\n",
    "        self.machine.add_transition(trigger='stay',source='market1',dest='market1')\n",
    "        self.machine.add_transition(trigger='stay',source='market2',dest='market2')\n",
    "        self.machine.add_transition(trigger='stay',source='product_page',dest='product_page')\n",
    "        self.machine.add_transition(trigger='stay',source='exit1',dest='exit1')\n",
    "            #up,down\n",
    "        self.machine.add_transition(trigger='scroll_up',source='market1',dest='market1')\n",
    "        self.machine.add_transition(trigger='scroll_up',source='market2',dest='market2')\n",
    "        self.machine.add_transition(trigger='scroll_up',source='product_page',dest='product_page')\n",
    "        self.machine.add_transition(trigger='scroll_up',source='exit1',dest='exit1')\n",
    "        self.machine.add_transition(trigger='scroll_down',source='market1',dest='market1')\n",
    "        self.machine.add_transition(trigger='scroll_down',source='market2',dest='market2')\n",
    "        self.machine.add_transition(trigger='scroll_down',source='product_page',dest='product_page')\n",
    "        self.machine.add_transition(trigger='scroll_down',source='exit1',dest='exit1')\n",
    "            #left right\n",
    "        self.machine.add_transition(trigger='scroll_left',source='market1',dest='exit2')\n",
    "        self.machine.add_transition(trigger='scroll_left',source='market2',dest='market1')\n",
    "        self.machine.add_transition(trigger='scroll_left',source='product_page',dest='market2')\n",
    "        self.machine.add_transition(trigger='scroll_left',source='exit1',dest='product_page')\n",
    "        self.machine.add_transition(trigger='scroll_right',source='market1',dest='market2')\n",
    "        self.machine.add_transition(trigger='scroll_right',source='market2',dest='market2')\n",
    "        \n",
    "            #tap_in\n",
    "        self.machine.add_transition(trigger='tap_in',source='market1',dest='product_page')\n",
    "        self.machine.add_transition(trigger='tap_in',source='market2',dest='product_page')\n",
    "        self.machine.add_transition(trigger='tap_in',source='product_page',dest='exit1')\n",
    "        self.machine.add_transition(trigger='tap_in',source='exit1',dest='exit2')\n",
    "            #view_produ_pic\n",
    "        self.machine.add_transition(trigger='view_produ_pic',source='product_page',dest='product_page')\n",
    "        self.machine.add_transition(trigger='view_produ_pic',source='exit1',dest='exit1')\n",
    "            #click_and_buy\n",
    "        self.machine.add_transition(trigger='click_and_buy',source='product_page',dest='product_page')\n",
    "        self.machine.add_transition(trigger='click_and_buy',source='exit1',dest='exit1')\n",
    "\n",
    "        self.machine.on_enter_market1('enter_market1')\n",
    "        self.machine.on_enter_market2('enter_market2')\n",
    "        self.machine.on_enter_product_page('enter_product_page')\n",
    "        self.machine.on_enter_exit1('enter_exit1')\n",
    "        self.machine.on_enter_exit2('enter_exit2')\n",
    "    def enter_market1(self):\n",
    "        self.stay_main_time+=1\n",
    "        if self.stay_product_time!=0:\n",
    "            self.list_product.append(self.stay_product_time)\n",
    "            self.stay_product_time=0\n",
    "    def enter_market2(self):\n",
    "        self.stay_main_time+=1\n",
    "        if self.stay_product_time!=0:\n",
    "            self.list_product.append(self.stay_product_time)\n",
    "            self.stay_product_time=0\n",
    "    \n",
    "    def enter_product_page(self):\n",
    "        self.stay_product_time+=1\n",
    "        if self.stay_main_time!=0:\n",
    "            self.list_main.append(self.stay_main_time)\n",
    "            self.stay_main_time=0\n",
    "    def enter_exit1(self):\n",
    "        if self.stay_product_time!=0:\n",
    "            self.list_product.append(self.stay_product_time)\n",
    "            self.stay_product_time=0\n",
    "    def enter_exit2(self):\n",
    "        pass\n",
    "#         print('user quit')\n",
    "    def act(self):\n",
    "        for i in range(len(self.action)):\n",
    "            self.trigger(self.movement[self.action[i]])\n",
    "            if i==(len(self.action)-1):\n",
    "                if self.stay_product_time!=0:\n",
    "                    self.list_product.append(self.stay_product_time)\n",
    "                    self.stay_product_time=0\n",
    "                if self.stay_main_time!=0:\n",
    "                    self.list_main.append(self.stay_main_time)\n",
    "                    self.stay_main_time=0\n",
    "        for e in self.action:\n",
    "            if e==5:\n",
    "                self.click_num+=1\n",
    "        print('user',self.name,'click',self.click_num,'in this activity.\\n')\n",
    "        print('user',self.name,'stay in main page for',len(self.list_main),'times.\\n')\n",
    "        if len(self.list_main)!=0:\n",
    "            for i in range(len(self.list_main)):\n",
    "                print('turn',i+1,' ',self.list_main[i]/self.fps,'s\\n')\n",
    "        print('user',self.name,'stay in product page for',len(self.list_product),'times.\\n')\n",
    "        if len(self.list_product)!=0:\n",
    "            for i in range(len(self.list_product)):\n",
    "                print('turn',i+1,' ',self.list_product[i]/self.fps,'s\\n')\n",
    "        if self.state=='exit2':\n",
    "            print('user quit')\n",
    "        else:\n",
    "            print('user stay in page',self.state)\n",
    "        return\n",
    "                    \n",
    "        \n",
    "        \n",
    "    "
   ]
  },
  {
   "cell_type": "code",
   "execution_count": 91,
   "id": "58a43994-0176-4bfb-8e38-d7c9ede7599f",
   "metadata": {},
   "outputs": [],
   "source": [
    "move=[0,0,0,1,1,2,2,2,5,0,0,0,1,1,3,3,5,6,6,7,3,3]\n",
    "cust1=shopping('customer1',2,move)"
   ]
  },
  {
   "cell_type": "code",
   "execution_count": 92,
   "id": "bae85cb0-11c5-4854-ad5d-e54092ed6925",
   "metadata": {},
   "outputs": [],
   "source": [
    "#movement：stay, scroll_up,scroll_down,scroll_left,scroll_right,tap_in,view_produ_pic,click_and_buy \n",
    "#self.movement={0:'stay',1:'scroll_up',2:'scroll_down',3:'scroll_left',4:'scroll_right',5:'tap_in',6:'view_produ_pic',7:'click_and_buy'}"
   ]
  },
  {
   "cell_type": "code",
   "execution_count": 93,
   "id": "88b7f06d-10e2-4dd9-bb82-6cde042aa163",
   "metadata": {},
   "outputs": [
    {
     "name": "stdout",
     "output_type": "stream",
     "text": [
      "user customer1 click 2 in this activity.\n",
      "\n",
      "user customer1 stay in main page for 3 times.\n",
      "\n",
      "turn 1   4.0 s\n",
      "\n",
      "turn 2   1.0 s\n",
      "\n",
      "turn 3   1.0 s\n",
      "\n",
      "user customer1 stay in product page for 2 times.\n",
      "\n",
      "turn 1   3.0 s\n",
      "\n",
      "turn 2   2.0 s\n",
      "\n",
      "user stay in page market1\n"
     ]
    }
   ],
   "source": [
    "cust1.act()\n"
   ]
  },
  {
   "cell_type": "code",
   "execution_count": 77,
   "id": "659f93e9-0703-4b30-91ce-aa355e8cfe7e",
   "metadata": {},
   "outputs": [
    {
     "data": {
      "text/plain": [
       "[8, 2, 2]"
      ]
     },
     "execution_count": 77,
     "metadata": {},
     "output_type": "execute_result"
    }
   ],
   "source": [
    "cust1.list_main"
   ]
  },
  {
   "cell_type": "code",
   "execution_count": 78,
   "id": "87583955-75d9-4c4c-8b4e-2e32df8c5709",
   "metadata": {},
   "outputs": [
    {
     "data": {
      "text/plain": [
       "[6, 4]"
      ]
     },
     "execution_count": 78,
     "metadata": {},
     "output_type": "execute_result"
    }
   ],
   "source": [
    "cust1.list_product"
   ]
  },
  {
   "cell_type": "code",
   "execution_count": 65,
   "id": "9f02c12c-7fdd-4afb-9f88-2be3023ebb29",
   "metadata": {},
   "outputs": [
    {
     "data": {
      "text/plain": [
       "0"
      ]
     },
     "execution_count": 65,
     "metadata": {},
     "output_type": "execute_result"
    }
   ],
   "source": [
    "cust1.stay_main_time"
   ]
  },
  {
   "cell_type": "code",
   "execution_count": 66,
   "id": "c726fc59-d916-43d4-8217-0e087db00dab",
   "metadata": {},
   "outputs": [
    {
     "ename": "MachineError",
     "evalue": "\"Can't trigger event tap_in from state exit2!\"",
     "output_type": "error",
     "traceback": [
      "\u001b[1;31m---------------------------------------------------------------------------\u001b[0m",
      "\u001b[1;31mMachineError\u001b[0m                              Traceback (most recent call last)",
      "\u001b[1;32m<ipython-input-66-53de9804c5fb>\u001b[0m in \u001b[0;36m<module>\u001b[1;34m\u001b[0m\n\u001b[1;32m----> 1\u001b[1;33m \u001b[0mcust1\u001b[0m\u001b[1;33m.\u001b[0m\u001b[0mtrigger\u001b[0m\u001b[1;33m(\u001b[0m\u001b[1;34m'tap_in'\u001b[0m\u001b[1;33m)\u001b[0m\u001b[1;33m\u001b[0m\u001b[1;33m\u001b[0m\u001b[0m\n\u001b[0m",
      "\u001b[1;32m~\\anaconda3\\lib\\site-packages\\transitions-0.8.8-py3.8.egg\\transitions\\core.py\u001b[0m in \u001b[0;36m_get_trigger\u001b[1;34m(self, model, trigger_name, *args, **kwargs)\u001b[0m\n\u001b[0;32m    881\u001b[0m                 \u001b[1;32mraise\u001b[0m \u001b[0mAttributeError\u001b[0m\u001b[1;33m(\u001b[0m\u001b[1;34m\"Do not know event named '%s'.\"\u001b[0m \u001b[1;33m%\u001b[0m \u001b[0mtrigger_name\u001b[0m\u001b[1;33m)\u001b[0m\u001b[1;33m\u001b[0m\u001b[1;33m\u001b[0m\u001b[0m\n\u001b[0;32m    882\u001b[0m             \u001b[1;32mreturn\u001b[0m \u001b[1;32mFalse\u001b[0m\u001b[1;33m\u001b[0m\u001b[1;33m\u001b[0m\u001b[0m\n\u001b[1;32m--> 883\u001b[1;33m         \u001b[1;32mreturn\u001b[0m \u001b[0mevent\u001b[0m\u001b[1;33m.\u001b[0m\u001b[0mtrigger\u001b[0m\u001b[1;33m(\u001b[0m\u001b[0mmodel\u001b[0m\u001b[1;33m,\u001b[0m \u001b[1;33m*\u001b[0m\u001b[0margs\u001b[0m\u001b[1;33m,\u001b[0m \u001b[1;33m**\u001b[0m\u001b[0mkwargs\u001b[0m\u001b[1;33m)\u001b[0m\u001b[1;33m\u001b[0m\u001b[1;33m\u001b[0m\u001b[0m\n\u001b[0m\u001b[0;32m    884\u001b[0m \u001b[1;33m\u001b[0m\u001b[0m\n\u001b[0;32m    885\u001b[0m     \u001b[1;32mdef\u001b[0m \u001b[0mget_triggers\u001b[0m\u001b[1;33m(\u001b[0m\u001b[0mself\u001b[0m\u001b[1;33m,\u001b[0m \u001b[1;33m*\u001b[0m\u001b[0margs\u001b[0m\u001b[1;33m)\u001b[0m\u001b[1;33m:\u001b[0m\u001b[1;33m\u001b[0m\u001b[1;33m\u001b[0m\u001b[0m\n",
      "\u001b[1;32m~\\anaconda3\\lib\\site-packages\\transitions-0.8.8-py3.8.egg\\transitions\\core.py\u001b[0m in \u001b[0;36mtrigger\u001b[1;34m(self, model, *args, **kwargs)\u001b[0m\n\u001b[0;32m    391\u001b[0m         \u001b[1;31m# Machine._process should not be called somewhere else. That's why it should not be exposed\u001b[0m\u001b[1;33m\u001b[0m\u001b[1;33m\u001b[0m\u001b[1;33m\u001b[0m\u001b[0m\n\u001b[0;32m    392\u001b[0m         \u001b[1;31m# to Machine users.\u001b[0m\u001b[1;33m\u001b[0m\u001b[1;33m\u001b[0m\u001b[1;33m\u001b[0m\u001b[0m\n\u001b[1;32m--> 393\u001b[1;33m         \u001b[1;32mreturn\u001b[0m \u001b[0mself\u001b[0m\u001b[1;33m.\u001b[0m\u001b[0mmachine\u001b[0m\u001b[1;33m.\u001b[0m\u001b[0m_process\u001b[0m\u001b[1;33m(\u001b[0m\u001b[0mfunc\u001b[0m\u001b[1;33m)\u001b[0m\u001b[1;33m\u001b[0m\u001b[1;33m\u001b[0m\u001b[0m\n\u001b[0m\u001b[0;32m    394\u001b[0m \u001b[1;33m\u001b[0m\u001b[0m\n\u001b[0;32m    395\u001b[0m     \u001b[1;32mdef\u001b[0m \u001b[0m_trigger\u001b[0m\u001b[1;33m(\u001b[0m\u001b[0mself\u001b[0m\u001b[1;33m,\u001b[0m \u001b[0mmodel\u001b[0m\u001b[1;33m,\u001b[0m \u001b[1;33m*\u001b[0m\u001b[0margs\u001b[0m\u001b[1;33m,\u001b[0m \u001b[1;33m**\u001b[0m\u001b[0mkwargs\u001b[0m\u001b[1;33m)\u001b[0m\u001b[1;33m:\u001b[0m\u001b[1;33m\u001b[0m\u001b[1;33m\u001b[0m\u001b[0m\n",
      "\u001b[1;32m~\\anaconda3\\lib\\site-packages\\transitions-0.8.8-py3.8.egg\\transitions\\core.py\u001b[0m in \u001b[0;36m_process\u001b[1;34m(self, trigger)\u001b[0m\n\u001b[0;32m   1170\u001b[0m             \u001b[1;32mif\u001b[0m \u001b[1;32mnot\u001b[0m \u001b[0mself\u001b[0m\u001b[1;33m.\u001b[0m\u001b[0m_transition_queue\u001b[0m\u001b[1;33m:\u001b[0m\u001b[1;33m\u001b[0m\u001b[1;33m\u001b[0m\u001b[0m\n\u001b[0;32m   1171\u001b[0m                 \u001b[1;31m# if trigger raises an Error, it has to be handled by the Machine.process caller\u001b[0m\u001b[1;33m\u001b[0m\u001b[1;33m\u001b[0m\u001b[1;33m\u001b[0m\u001b[0m\n\u001b[1;32m-> 1172\u001b[1;33m                 \u001b[1;32mreturn\u001b[0m \u001b[0mtrigger\u001b[0m\u001b[1;33m(\u001b[0m\u001b[1;33m)\u001b[0m\u001b[1;33m\u001b[0m\u001b[1;33m\u001b[0m\u001b[0m\n\u001b[0m\u001b[0;32m   1173\u001b[0m             \u001b[1;32melse\u001b[0m\u001b[1;33m:\u001b[0m\u001b[1;33m\u001b[0m\u001b[1;33m\u001b[0m\u001b[0m\n\u001b[0;32m   1174\u001b[0m                 \u001b[1;32mraise\u001b[0m \u001b[0mMachineError\u001b[0m\u001b[1;33m(\u001b[0m\u001b[1;34m\"Attempt to process events synchronously while transition queue is not empty!\"\u001b[0m\u001b[1;33m)\u001b[0m\u001b[1;33m\u001b[0m\u001b[1;33m\u001b[0m\u001b[0m\n",
      "\u001b[1;32m~\\anaconda3\\lib\\site-packages\\transitions-0.8.8-py3.8.egg\\transitions\\core.py\u001b[0m in \u001b[0;36m_trigger\u001b[1;34m(self, model, *args, **kwargs)\u001b[0m\n\u001b[0;32m    407\u001b[0m                 \u001b[1;32mreturn\u001b[0m \u001b[1;32mFalse\u001b[0m\u001b[1;33m\u001b[0m\u001b[1;33m\u001b[0m\u001b[0m\n\u001b[0;32m    408\u001b[0m             \u001b[1;32melse\u001b[0m\u001b[1;33m:\u001b[0m\u001b[1;33m\u001b[0m\u001b[1;33m\u001b[0m\u001b[0m\n\u001b[1;32m--> 409\u001b[1;33m                 \u001b[1;32mraise\u001b[0m \u001b[0mMachineError\u001b[0m\u001b[1;33m(\u001b[0m\u001b[0mmsg\u001b[0m\u001b[1;33m)\u001b[0m\u001b[1;33m\u001b[0m\u001b[1;33m\u001b[0m\u001b[0m\n\u001b[0m\u001b[0;32m    410\u001b[0m         \u001b[0mevent_data\u001b[0m \u001b[1;33m=\u001b[0m \u001b[0mEventData\u001b[0m\u001b[1;33m(\u001b[0m\u001b[0mstate\u001b[0m\u001b[1;33m,\u001b[0m \u001b[0mself\u001b[0m\u001b[1;33m,\u001b[0m \u001b[0mself\u001b[0m\u001b[1;33m.\u001b[0m\u001b[0mmachine\u001b[0m\u001b[1;33m,\u001b[0m \u001b[0mmodel\u001b[0m\u001b[1;33m,\u001b[0m \u001b[0margs\u001b[0m\u001b[1;33m=\u001b[0m\u001b[0margs\u001b[0m\u001b[1;33m,\u001b[0m \u001b[0mkwargs\u001b[0m\u001b[1;33m=\u001b[0m\u001b[0mkwargs\u001b[0m\u001b[1;33m)\u001b[0m\u001b[1;33m\u001b[0m\u001b[1;33m\u001b[0m\u001b[0m\n\u001b[0;32m    411\u001b[0m         \u001b[1;32mreturn\u001b[0m \u001b[0mself\u001b[0m\u001b[1;33m.\u001b[0m\u001b[0m_process\u001b[0m\u001b[1;33m(\u001b[0m\u001b[0mevent_data\u001b[0m\u001b[1;33m)\u001b[0m\u001b[1;33m\u001b[0m\u001b[1;33m\u001b[0m\u001b[0m\n",
      "\u001b[1;31mMachineError\u001b[0m: \"Can't trigger event tap_in from state exit2!\""
     ]
    }
   ],
   "source": [
    "cust1.trigger('tap_in')"
   ]
  },
  {
   "cell_type": "code",
   "execution_count": null,
   "id": "4bf0bad5-1144-48e4-98f2-4f5aba57d2b9",
   "metadata": {},
   "outputs": [],
   "source": []
  }
 ],
 "metadata": {
  "kernelspec": {
   "display_name": "Python 3",
   "language": "python",
   "name": "python3"
  },
  "language_info": {
   "codemirror_mode": {
    "name": "ipython",
    "version": 3
   },
   "file_extension": ".py",
   "mimetype": "text/x-python",
   "name": "python",
   "nbconvert_exporter": "python",
   "pygments_lexer": "ipython3",
   "version": "3.8.8"
  }
 },
 "nbformat": 4,
 "nbformat_minor": 5
}
