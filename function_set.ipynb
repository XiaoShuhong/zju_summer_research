{
 "cells": [
  {
   "cell_type": "code",
   "execution_count": 22,
   "id": "b2f8366d-6821-4cf3-aa61-b1e00925cdae",
   "metadata": {},
   "outputs": [],
   "source": [
    "from __future__ import print_function\n",
    "import cv2\n",
    "import numpy as np\n",
    "from skimage.metrics import structural_similarity\n",
    "import matplotlib.pyplot as plt\n",
    "from cv2 import cv2 as cv2\n",
    "from PIL import Image\n",
    "import imagehash\n",
    "from moviepy.editor import VideoFileClip\n",
    "import os\n",
    "from collections import deque"
   ]
  },
  {
   "cell_type": "markdown",
   "id": "eaaa5ba6-a077-49d9-82f2-42db6e30672b",
   "metadata": {},
   "source": [
    "## parameter"
   ]
  },
  {
   "cell_type": "code",
   "execution_count": 23,
   "id": "ceafaa28-e063-49c3-aabf-41a3b69c601d",
   "metadata": {},
   "outputs": [],
   "source": [
    "gap_factor=10 ## num of detection within each second\n",
    "match_ratio=0.3 ##the distance ratio thershold between best match and second match\n",
    "good_match_rate=0.7 ##the rate of matches to be chosen in all\n",
    "ransacReprojThreshold=5\n",
    "min_match_count=5\n"
   ]
  },
  {
   "cell_type": "markdown",
   "id": "e9df8e55-e84a-4287-ac94-c366f61ae128",
   "metadata": {},
   "source": [
    "## anotation"
   ]
  },
  {
   "cell_type": "markdown",
   "id": "c7cbf03a-5ffe-4863-bdbd-b7dfd7e94736",
   "metadata": {},
   "source": [
    "for keypoint, attribute to use are:\n",
    "    pt \n",
    "    angle\n",
    "    response\n",
    "    size\n",
    "    octave\n",
    "    class_id：object\n",
    "for match, attribute to use are:\n",
    "    distance\n",
    "    queryIdx\n",
    "    trainIdx\n",
    "    imgIdx\n",
    "    \n",
    "    print(kp1[i.queryIdx].pt) location before move\n",
    "    print(kp2[i.trainIdx].pt) location after move"
   ]
  },
  {
   "cell_type": "markdown",
   "id": "f76bd944-25de-483a-9313-86be164c36d4",
   "metadata": {},
   "source": [
    "## test begin"
   ]
  },
  {
   "cell_type": "code",
   "execution_count": 88,
   "id": "b679ac6e-49e6-4886-a825-fcfa44f95526",
   "metadata": {},
   "outputs": [],
   "source": [
    "def main():\n",
    "    \n",
    "    ##load test video\n",
    "    video=os.path.abspath(os.curdir)+'/click_in.mp4'\n",
    "    videoCapture = cv2.VideoCapture(video)\n",
    "    \n",
    "    ##detect for gap_factor #gap_dected frames\n",
    "    fps = videoCapture.get(cv2.CAP_PROP_FPS)\n",
    "    print(fps)\n",
    "    gap_dected=int(fps//gap_factor)\n",
    "    \n",
    "    ##load first frame\n",
    "    success, frame_old = videoCapture.read()\n",
    "    i,j=0,0\n",
    "    _SaveImage(frame_old,os.path.abspath(os.curdir)+'/test',j)\n",
    "    print('save image:',i)\n",
    "    \n",
    "    predict=deque([],maxlen=gap_factor)\n",
    "    \n",
    "    while success:\n",
    "        i+=1\n",
    "    ##finish process if all frames loaded\n",
    "        success, frame_new = videoCapture.read()\n",
    "        if success==False:\n",
    "            print('vedio detection finish')\n",
    "#           sys.exit() \n",
    "            return \n",
    "        if (i % gap_dected == 0):\n",
    "            j+=1\n",
    "            _SaveImage(frame_new,os.path.abspath(os.curdir)+'/test',j)\n",
    "            print('save image:',i)\n",
    "            \n",
    "    ##predict \n",
    "            if _AlignImages(frame_old,frame_new) != None:\n",
    "                predict.append(_AlignImages(frame_old,frame_new))\n",
    "                if len(predict)==gap_factor:\n",
    "                    res=_Predict(predict)\n",
    "                    print(i//30,'s',i%30,'frame',res)\n",
    "            \n",
    "            \n",
    "        frame_old=frame_new\n",
    "    \n",
    "            \n",
    "        \n",
    "        \n",
    "\n",
    "        \n",
    "        \n",
    "    \n",
    "    "
   ]
  },
  {
   "cell_type": "code",
   "execution_count": 89,
   "id": "7e61a1a1-275a-41d6-84af-cd5822e43dff",
   "metadata": {},
   "outputs": [],
   "source": [
    "def _SaveImage(image,addr,num):\n",
    "    address = addr +'/'+ str(num)+ '.jpg'\n",
    "    cv2.imwrite(address,image)\n",
    "\n",
    "def _AlignImages(img1,img2):\n",
    "    # initiate ORB detector\n",
    "    orb = cv2.ORB_create(5000)\n",
    "    \n",
    "    ##check bilateral banner, eliminate stick part\n",
    "#     up_idx,down_idx=_SplitImage(img1,img2)\n",
    "#     img1 = img1[up_idx:down_idx,:]\n",
    "#     img2= img2[up_dx:down_idx,:]\n",
    "    img1 = img1[80:440,:]\n",
    "    img2 = img2[80:440,:]\n",
    "    \n",
    "    ##find the keypoints and descriptors with ORB\n",
    "    kp1, des1 = orb.detectAndCompute(img1,None)\n",
    "    kp2, des2 = orb.detectAndCompute(img2,None)\n",
    "    if des2 is None: \n",
    "        return 'click','in'\n",
    "    \n",
    "    ##match with Brute-Force\n",
    "    bf = cv2.BFMatcher(cv2.NORM_HAMMING)\n",
    "    ##find best 2 matches for each kp\n",
    "    matches = bf.knnMatch(des1, trainDescriptors = des2, k = 2)\n",
    "    print(len(matches))\n",
    "    ##ratio test\n",
    "    good = [m for (m,n) in matches if m.distance < match_ratio*n.distance]\n",
    "    ##sort and choose the best part of matches\n",
    "#     good = sorted(good, key = lambda x:x.distance)\n",
    "#     good = good[:int(len(good) * good_match_rate)]\n",
    "    \n",
    "    if len(good)>min_match_count:\n",
    "        src_pts = np.float32([ kp1[m.queryIdx].pt for m in good ]).reshape(-1,1,2)\n",
    "        dst_pts = np.float32([ kp2[m.trainIdx].pt for m in good ]).reshape(-1,1,2)\n",
    "        ##find (3x3) transform matrix\n",
    "        M, _ = cv2.findHomography(src_pts, dst_pts, cv2.RANSAC,ransacReprojThreshold)\n",
    "        t_x = M[0][2]\n",
    "        t_y = M[1][2]\n",
    "        return (t_x,t_y)\n",
    "    else:\n",
    "        return None\n",
    "        \n",
    "        \n",
    "\n",
    "def _Predict(predict):\n",
    "    res=[]\n",
    "    for p in predict:\n",
    "        res.append(__Pattern(p[0],p[1]))\n",
    "    return res\n",
    "    \n",
    "def __Pattern(t_x,t_y):\n",
    "    if type(t_x)!=str and type(t_y)!=str:\n",
    "        if abs(t_x)<1 and abs(t_y)<1:\n",
    "    #         print('stop')\n",
    "            return 'stop'\n",
    "        elif abs(t_x/t_y)>15:\n",
    "            if (t_x>0):\n",
    "    #             print('down')\n",
    "                return 'right'\n",
    "            else:\n",
    "    #             print('up')\n",
    "                return 'left'\n",
    "\n",
    "        elif abs(t_y/t_x)>15:\n",
    "    #         print('up,down')\n",
    "            if (t_y>0):\n",
    "    #             print('down')\n",
    "                return 'down'\n",
    "            else:\n",
    "    #             print('up')\n",
    "                return 'up'\n",
    "        else:\n",
    "            return 'stop'\n",
    "    else:\n",
    "        if t_x=='click' and t_y=='in':\n",
    "            return t_x+t_y\n",
    "        \n",
    "        \n",
    "          \n",
    "    \n",
    "    \n",
    "    \n",
    "    \n",
    "    \n",
    "    \n",
    "    \n",
    "    "
   ]
  },
  {
   "cell_type": "code",
   "execution_count": null,
   "id": "cdbf451f-07bf-4ead-bb4e-fb0cafc5eaae",
   "metadata": {},
   "outputs": [],
   "source": []
  },
  {
   "cell_type": "code",
   "execution_count": 90,
   "id": "cb36f190-6b23-46ab-9bb7-bf61f9e3a91f",
   "metadata": {},
   "outputs": [
    {
     "name": "stdout",
     "output_type": "stream",
     "text": [
      "26.25\n",
      "save image: 0\n",
      "save image: 2\n",
      "3863\n",
      "3863\n",
      "save image: 4\n",
      "3862\n",
      "3862\n",
      "save image: 6\n",
      "3866\n",
      "3866\n",
      "save image: 8\n",
      "3884\n",
      "3884\n",
      "save image: 10\n",
      "3887\n",
      "3887\n",
      "save image: 12\n",
      "3883\n",
      "3883\n",
      "save image: 14\n",
      "3874\n",
      "3874\n",
      "save image: 16\n",
      "3885\n",
      "3885\n",
      "save image: 18\n",
      "3882\n",
      "3882\n",
      "save image: 20\n",
      "3869\n",
      "3869\n",
      "0 s 20 frame ['stop', 'stop', 'stop', 'stop', 'stop', 'stop', 'stop', 'stop', 'stop', 'stop']\n",
      "save image: 22\n",
      "3874\n",
      "3874\n",
      "0 s 22 frame ['stop', 'stop', 'stop', 'stop', 'stop', 'stop', 'stop', 'stop', 'stop', 'stop']\n",
      "save image: 24\n",
      "3872\n",
      "3872\n",
      "0 s 24 frame ['stop', 'stop', 'stop', 'stop', 'stop', 'stop', 'stop', 'stop', 'stop', 'stop']\n",
      "save image: 26\n",
      "3870\n",
      "3870\n",
      "0 s 26 frame ['stop', 'stop', 'stop', 'stop', 'stop', 'stop', 'stop', 'stop', 'stop', 'stop']\n",
      "save image: 28\n",
      "3870\n",
      "3870\n",
      "0 s 28 frame ['stop', 'stop', 'stop', 'stop', 'stop', 'stop', 'stop', 'stop', 'stop', 'left']\n",
      "save image: 30\n",
      "3852\n",
      "3852\n",
      "1 s 0 frame ['stop', 'stop', 'stop', 'stop', 'stop', 'stop', 'stop', 'stop', 'left', 'left']\n",
      "save image: 32\n",
      "3509\n",
      "3509\n",
      "1 s 2 frame ['stop', 'stop', 'stop', 'stop', 'stop', 'stop', 'stop', 'left', 'left', 'left']\n",
      "save image: 34\n",
      "2260\n",
      "2260\n",
      "1 s 4 frame ['stop', 'stop', 'stop', 'stop', 'stop', 'stop', 'left', 'left', 'left', 'left']\n",
      "save image: 36\n",
      "788\n",
      "save image: 38\n",
      "1 s 8 frame ['stop', 'stop', 'stop', 'stop', 'stop', 'left', 'left', 'left', 'left', 'clickin']\n",
      "save image: 40\n",
      "1 s 10 frame ['stop', 'stop', 'stop', 'stop', 'left', 'left', 'left', 'left', 'clickin', 'clickin']\n",
      "save image: 42\n",
      "1 s 12 frame ['stop', 'stop', 'stop', 'left', 'left', 'left', 'left', 'clickin', 'clickin', 'clickin']\n",
      "save image: 44\n",
      "1 s 14 frame ['stop', 'stop', 'left', 'left', 'left', 'left', 'clickin', 'clickin', 'clickin', 'clickin']\n",
      "save image: 46\n",
      "1 s 16 frame ['stop', 'left', 'left', 'left', 'left', 'clickin', 'clickin', 'clickin', 'clickin', 'clickin']\n",
      "save image: 48\n",
      "1 s 18 frame ['left', 'left', 'left', 'left', 'clickin', 'clickin', 'clickin', 'clickin', 'clickin', 'clickin']\n",
      "save image: 50\n",
      "1 s 20 frame ['left', 'left', 'left', 'clickin', 'clickin', 'clickin', 'clickin', 'clickin', 'clickin', 'clickin']\n",
      "save image: 52\n",
      "1 s 22 frame ['left', 'left', 'clickin', 'clickin', 'clickin', 'clickin', 'clickin', 'clickin', 'clickin', 'clickin']\n",
      "save image: 54\n",
      "17\n",
      "save image: 56\n",
      "72\n",
      "72\n",
      "1 s 26 frame ['left', 'clickin', 'clickin', 'clickin', 'clickin', 'clickin', 'clickin', 'clickin', 'clickin', 'stop']\n",
      "save image: 58\n",
      "107\n",
      "save image: 60\n",
      "1963\n",
      "1963\n",
      "2 s 0 frame ['clickin', 'clickin', 'clickin', 'clickin', 'clickin', 'clickin', 'clickin', 'clickin', 'stop', 'stop']\n",
      "save image: 62\n",
      "1971\n",
      "1971\n",
      "2 s 2 frame ['clickin', 'clickin', 'clickin', 'clickin', 'clickin', 'clickin', 'clickin', 'stop', 'stop', 'stop']\n",
      "save image: 64\n",
      "2045\n",
      "2045\n",
      "2 s 4 frame ['clickin', 'clickin', 'clickin', 'clickin', 'clickin', 'clickin', 'stop', 'stop', 'stop', 'stop']\n",
      "save image: 66\n",
      "2068\n",
      "2068\n",
      "2 s 6 frame ['clickin', 'clickin', 'clickin', 'clickin', 'clickin', 'stop', 'stop', 'stop', 'stop', 'stop']\n",
      "save image: 68\n",
      "2068\n",
      "2068\n",
      "2 s 8 frame ['clickin', 'clickin', 'clickin', 'clickin', 'stop', 'stop', 'stop', 'stop', 'stop', 'stop']\n",
      "save image: 70\n",
      "2150\n",
      "2150\n",
      "2 s 10 frame ['clickin', 'clickin', 'clickin', 'stop', 'stop', 'stop', 'stop', 'stop', 'stop', 'stop']\n",
      "save image: 72\n",
      "2150\n",
      "2150\n",
      "2 s 12 frame ['clickin', 'clickin', 'stop', 'stop', 'stop', 'stop', 'stop', 'stop', 'stop', 'stop']\n",
      "save image: 74\n",
      "2154\n",
      "2154\n",
      "2 s 14 frame ['clickin', 'stop', 'stop', 'stop', 'stop', 'stop', 'stop', 'stop', 'stop', 'stop']\n",
      "save image: 76\n",
      "2172\n",
      "2172\n",
      "2 s 16 frame ['stop', 'stop', 'stop', 'stop', 'stop', 'stop', 'stop', 'stop', 'stop', 'stop']\n",
      "save image: 78\n",
      "2190\n",
      "2190\n",
      "2 s 18 frame ['stop', 'stop', 'stop', 'stop', 'stop', 'stop', 'stop', 'stop', 'stop', 'stop']\n",
      "save image: 80\n",
      "2196\n",
      "2196\n",
      "2 s 20 frame ['stop', 'stop', 'stop', 'stop', 'stop', 'stop', 'stop', 'stop', 'stop', 'stop']\n",
      "save image: 82\n",
      "2194\n",
      "2194\n",
      "2 s 22 frame ['stop', 'stop', 'stop', 'stop', 'stop', 'stop', 'stop', 'stop', 'stop', 'stop']\n",
      "save image: 84\n",
      "2195\n",
      "2195\n",
      "2 s 24 frame ['stop', 'stop', 'stop', 'stop', 'stop', 'stop', 'stop', 'stop', 'stop', 'stop']\n",
      "save image: 86\n",
      "2207\n",
      "2207\n",
      "2 s 26 frame ['stop', 'stop', 'stop', 'stop', 'stop', 'stop', 'stop', 'stop', 'stop', 'stop']\n",
      "save image: 88\n",
      "2203\n",
      "2203\n",
      "2 s 28 frame ['stop', 'stop', 'stop', 'stop', 'stop', 'stop', 'stop', 'stop', 'stop', 'stop']\n",
      "save image: 90\n",
      "2207\n",
      "2207\n",
      "3 s 0 frame ['stop', 'stop', 'stop', 'stop', 'stop', 'stop', 'stop', 'stop', 'stop', 'stop']\n",
      "save image: 92\n",
      "2205\n",
      "2205\n",
      "3 s 2 frame ['stop', 'stop', 'stop', 'stop', 'stop', 'stop', 'stop', 'stop', 'stop', 'stop']\n",
      "save image: 94\n",
      "2203\n",
      "2203\n",
      "3 s 4 frame ['stop', 'stop', 'stop', 'stop', 'stop', 'stop', 'stop', 'stop', 'stop', 'stop']\n",
      "save image: 96\n",
      "2201\n",
      "2201\n",
      "3 s 6 frame ['stop', 'stop', 'stop', 'stop', 'stop', 'stop', 'stop', 'stop', 'stop', 'stop']\n",
      "vedio detection finish\n"
     ]
    }
   ],
   "source": [
    "main()"
   ]
  },
  {
   "cell_type": "code",
   "execution_count": 3,
   "id": "1844827e-9ece-4959-9738-13fd2e855e56",
   "metadata": {},
   "outputs": [],
   "source": []
  },
  {
   "cell_type": "code",
   "execution_count": 4,
   "id": "995d33b3-9ba8-4d53-b66f-0a2ced4ddb9c",
   "metadata": {},
   "outputs": [],
   "source": []
  },
  {
   "cell_type": "code",
   "execution_count": 73,
   "id": "d26b0c05-230b-420d-8a49-cb0165573d3a",
   "metadata": {},
   "outputs": [],
   "source": [
    "a=deque([],maxlen=2)\n"
   ]
  },
  {
   "cell_type": "code",
   "execution_count": 76,
   "id": "138365e8-81d4-41c7-a1f3-417e241fe11f",
   "metadata": {},
   "outputs": [],
   "source": [
    "a.append(1)\n",
    "a.append(None)"
   ]
  },
  {
   "cell_type": "code",
   "execution_count": 77,
   "id": "692f3e1e-10b8-4dce-9807-4b4963c89677",
   "metadata": {},
   "outputs": [
    {
     "data": {
      "text/plain": [
       "deque([1, None])"
      ]
     },
     "execution_count": 77,
     "metadata": {},
     "output_type": "execute_result"
    }
   ],
   "source": [
    "a\n"
   ]
  },
  {
   "cell_type": "code",
   "execution_count": 19,
   "id": "3bd6a12f-0557-42c4-b081-e946c5f25531",
   "metadata": {},
   "outputs": [],
   "source": []
  },
  {
   "cell_type": "code",
   "execution_count": 20,
   "id": "634dd2e1-c4ba-48dc-8c92-facffa43ab1a",
   "metadata": {},
   "outputs": [
    {
     "data": {
      "text/plain": [
       "'stop'"
      ]
     },
     "execution_count": 20,
     "metadata": {},
     "output_type": "execute_result"
    }
   ],
   "source": [
    "test()"
   ]
  },
  {
   "cell_type": "code",
   "execution_count": 82,
   "id": "4425795a-522d-4e49-bd01-cc1325e1bf39",
   "metadata": {},
   "outputs": [],
   "source": [
    "a=1"
   ]
  },
  {
   "cell_type": "code",
   "execution_count": 83,
   "id": "8280358e-1a8d-4bbb-9f43-ad8c715e664e",
   "metadata": {},
   "outputs": [
    {
     "data": {
      "text/plain": [
       "int"
      ]
     },
     "execution_count": 83,
     "metadata": {},
     "output_type": "execute_result"
    }
   ],
   "source": [
    "type(a)"
   ]
  },
  {
   "cell_type": "code",
   "execution_count": 84,
   "id": "1e9d9a19-f9d5-4d68-ae7a-c8eb70d75b96",
   "metadata": {},
   "outputs": [
    {
     "data": {
      "text/plain": [
       "str"
      ]
     },
     "execution_count": 84,
     "metadata": {},
     "output_type": "execute_result"
    }
   ],
   "source": [
    "type(str(a))"
   ]
  },
  {
   "cell_type": "code",
   "execution_count": 85,
   "id": "fc4b7be5-2811-4186-8eb4-2970288c5f15",
   "metadata": {},
   "outputs": [
    {
     "data": {
      "text/plain": [
       "True"
      ]
     },
     "execution_count": 85,
     "metadata": {},
     "output_type": "execute_result"
    }
   ],
   "source": [
    "type(a)!=str"
   ]
  },
  {
   "cell_type": "code",
   "execution_count": null,
   "id": "e764f665-723f-4d45-99cc-23f57299ee38",
   "metadata": {},
   "outputs": [],
   "source": []
  }
 ],
 "metadata": {
  "kernelspec": {
   "display_name": "Python 3",
   "language": "python",
   "name": "python3"
  },
  "language_info": {
   "codemirror_mode": {
    "name": "ipython",
    "version": 3
   },
   "file_extension": ".py",
   "mimetype": "text/x-python",
   "name": "python",
   "nbconvert_exporter": "python",
   "pygments_lexer": "ipython3",
   "version": "3.8.8"
  }
 },
 "nbformat": 4,
 "nbformat_minor": 5
}
