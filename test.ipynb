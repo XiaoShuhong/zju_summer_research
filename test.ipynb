{
 "cells": [
  {
   "cell_type": "code",
   "execution_count": 35,
   "id": "04791933-9137-4e94-a3ec-a193eefc7b88",
   "metadata": {},
   "outputs": [],
   "source": [
    "from __future__ import print_function\n",
    "import cv2\n",
    "import numpy as np\n",
    "from skimage.metrics import structural_similarity\n",
    "import matplotlib.pyplot as plt\n",
    "from cv2 import cv2 as cv2\n",
    "from PIL import Image\n",
    "import imagehash\n",
    "from moviepy.editor import VideoFileClip\n"
   ]
  },
  {
   "cell_type": "code",
   "execution_count": 456,
   "id": "ea76bf0b-87c3-45a6-b607-0ed9587c64ba",
   "metadata": {},
   "outputs": [],
   "source": [
    "videoCapture = cv2.VideoCapture('C:/Users/11488/Desktop/zju/taobao_test1.mp4')"
   ]
  },
  {
   "cell_type": "code",
   "execution_count": 457,
   "id": "a0f52922-3a1e-4b10-8793-68b5b28be3d9",
   "metadata": {},
   "outputs": [],
   "source": [
    "up=0\n",
    "down=0\n",
    "new_scene=[]"
   ]
  },
  {
   "cell_type": "code",
   "execution_count": 458,
   "id": "4aa7aa11-18e4-41e9-a649-4550a624fabf",
   "metadata": {},
   "outputs": [],
   "source": [
    "fps = videoCapture.get(cv2.CAP_PROP_FPS)"
   ]
  },
  {
   "cell_type": "code",
   "execution_count": 459,
   "id": "dd78a6cb-b384-43bf-a2e3-67cc34818d8d",
   "metadata": {},
   "outputs": [
    {
     "data": {
      "text/plain": [
       "30.0"
      ]
     },
     "execution_count": 459,
     "metadata": {},
     "output_type": "execute_result"
    }
   ],
   "source": [
    "fps"
   ]
  },
  {
   "cell_type": "code",
   "execution_count": 460,
   "id": "9bba3b6e-6a8f-49ca-bc05-495a9c9b6194",
   "metadata": {},
   "outputs": [],
   "source": [
    "success, img1= videoCapture.read()"
   ]
  },
  {
   "cell_type": "code",
   "execution_count": 461,
   "id": "7d045107-25ee-4465-b148-395b7781b21d",
   "metadata": {},
   "outputs": [
    {
     "data": {
      "text/plain": [
       "True"
      ]
     },
     "execution_count": 461,
     "metadata": {},
     "output_type": "execute_result"
    }
   ],
   "source": [
    "success"
   ]
  },
  {
   "cell_type": "code",
   "execution_count": null,
   "id": "53a83af1-d584-4862-a117-7d116b708c93",
   "metadata": {},
   "outputs": [],
   "source": []
  },
  {
   "cell_type": "code",
   "execution_count": 472,
   "id": "e2698445-27ff-4575-bcea-e565fe0d556c",
   "metadata": {},
   "outputs": [],
   "source": [
    "i = 0\n",
    "while i<25:\n",
    "    success, img2 = videoCapture.read()\n",
    "    i+=1"
   ]
  },
  {
   "cell_type": "code",
   "execution_count": 473,
   "id": "e62fa0e0-d62a-4a6e-8037-5527efd36e66",
   "metadata": {},
   "outputs": [
    {
     "data": {
      "text/plain": [
       "(480, 272, 3)"
      ]
     },
     "execution_count": 473,
     "metadata": {},
     "output_type": "execute_result"
    }
   ],
   "source": [
    "img2.shape"
   ]
  },
  {
   "cell_type": "code",
   "execution_count": 38,
   "id": "b2ef435b-eb9c-4793-89b4-9b030fab4096",
   "metadata": {},
   "outputs": [],
   "source": [
    "orb = cv2.ORB_create(5000)"
   ]
  },
  {
   "cell_type": "code",
   "execution_count": null,
   "id": "35beb48d-652a-4e56-aa1a-71e159bfc439",
   "metadata": {},
   "outputs": [],
   "source": []
  },
  {
   "cell_type": "code",
   "execution_count": null,
   "id": "9f4b8cfa-b5da-4c96-9b95-5fa35812d124",
   "metadata": {},
   "outputs": [],
   "source": []
  },
  {
   "cell_type": "code",
   "execution_count": 39,
   "id": "4e870e98-9be0-4ad9-9ccc-98d07a31d3c5",
   "metadata": {},
   "outputs": [],
   "source": [
    "img1 = img1[80:440,:]\n",
    "img2= img2[80:440,:]\n",
    "kp1, des1 = orb.detectAndCompute(img1,None)\n",
    "kp2, des2 = orb.detectAndCompute(img2,None)"
   ]
  },
  {
   "cell_type": "code",
   "execution_count": 40,
   "id": "24ca086e-8d85-4b5d-ab00-697c9e34b71f",
   "metadata": {},
   "outputs": [],
   "source": [
    "bf = cv2.BFMatcher(cv2.NORM_HAMMING)"
   ]
  },
  {
   "cell_type": "code",
   "execution_count": 41,
   "id": "56033757-6efd-4cd4-a986-d840bb817746",
   "metadata": {},
   "outputs": [
    {
     "data": {
      "image/png": "[encoded data removed]",
      "text/plain": [
       "<Figure size 432x288 with 1 Axes>"
      ]
     },
     "metadata": {
      "needs_background": "light"
     },
     "output_type": "display_data"
    }
   ],
   "source": [
    "match = bf.match(des1,des2)\n",
    "match = sorted(match, key = lambda x:x.distance)\n",
    "img3 = cv2.drawMatches(img1,kp1,img2,kp2,match[:20],None,flags=2)\n",
    "cv2.imwrite('test3.jpg',img3)\n",
    "plt.imshow(img3)\n",
    "plt.show()"
   ]
  },
  {
   "cell_type": "code",
   "execution_count": 42,
   "id": "1eafb99b-c118-4ebd-992c-79349fbd0ae3",
   "metadata": {},
   "outputs": [],
   "source": [
    "matches = bf.knnMatch(des1, trainDescriptors = des2, k = 2)"
   ]
  },
  {
   "cell_type": "code",
   "execution_count": 43,
   "id": "f8adf3e5-98fa-47a5-9fe3-0c2d0d143de4",
   "metadata": {},
   "outputs": [
    {
     "data": {
      "text/plain": [
       "153"
      ]
     },
     "execution_count": 43,
     "metadata": {},
     "output_type": "execute_result"
    }
   ],
   "source": [
    "good = [m for (m,n) in matches if m.distance < 0.35*n.distance]\n",
    "len(good)\n"
   ]
  },
  {
   "cell_type": "code",
   "execution_count": 44,
   "id": "ca9abb62-68b0-477a-baf1-27a0e109644d",
   "metadata": {},
   "outputs": [],
   "source": [
    "gap_factor=5 ## num of detection within each second\n",
    "match_ratio=0.3 ##the distance ratio thershold between best match and second match\n",
    "good_match_rate=0.7 ##the rate of matches to be chosen in all\n",
    "ransacReprojThreshold=6\n",
    "min_match_count=5\n",
    "def _AlignImages(img1,img2):\n",
    "    # initiate ORB detector\n",
    "    orb = cv2.ORB_create(5000)\n",
    "    \n",
    "    ##check bilateral banner, eliminate stick part\n",
    "#     up_idx,down_idx=_SplitImage(img1,img2)\n",
    "#     img1 = img1[up_idx:down_idx,:]\n",
    "#     img2= img2[up_dx:down_idx,:]\n",
    "    img1 = img1[80:440,:]\n",
    "    img2 = img2[80:440,:]\n",
    "    \n",
    "    ##find the keypoints and descriptors with ORB\n",
    "    kp1, des1 = orb.detectAndCompute(img1,None)\n",
    "    kp2, des2 = orb.detectAndCompute(img2,None)\n",
    "    \n",
    "    ##match with Brute-Force\n",
    "    bf = cv2.BFMatcher(cv2.NORM_HAMMING)\n",
    "    ##find best 2 matches for each kp\n",
    "    matches = bf.knnMatch(des1, trainDescriptors = des2, k = 2)\n",
    "    ##ratio test\n",
    "    good = [m for (m,n) in matches if m.distance < match_ratio*n.distance]\n",
    "    ##sort and choose the best part of matches\n",
    "#     good = sorted(good, key = lambda x:x.distance)\n",
    "#     good = good[:int(len(good) * good_match_rate)]\n",
    "\n",
    "    \n",
    "    if len(good)>min_match_count:\n",
    "        src_pts = np.float32([ kp1[m.queryIdx].pt for m in good ]).reshape(-1,1,2)\n",
    "        dst_pts = np.float32([ kp2[m.trainIdx].pt for m in good ]).reshape(-1,1,2)\n",
    "        ##find (3x3) transform matrix\n",
    "        M, mask = cv2.findHomography(src_pts, dst_pts, cv2.RANSAC,ransacReprojThreshold)\n",
    "        print(M)"
   ]
  },
  {
   "cell_type": "code",
   "execution_count": 45,
   "id": "88781000-5fee-4dbe-9188-1ec70fccb92b",
   "metadata": {},
   "outputs": [
    {
     "name": "stdout",
     "output_type": "stream",
     "text": [
      "[[ 9.90389773e-01 -1.70207499e-02  5.52298735e+02]\n",
      " [-7.92088372e-04  9.95430976e-01  1.97871990e-01]\n",
      " [-1.01322632e-05 -2.59167141e-05  1.00000000e+00]]\n"
     ]
    }
   ],
   "source": [
    "_AlignImages(img2,img1)"
   ]
  },
  {
   "cell_type": "code",
   "execution_count": 46,
   "id": "38a16dfd-446f-4dc4-8a49-5a222d0ab79e",
   "metadata": {},
   "outputs": [
    {
     "name": "stdout",
     "output_type": "stream",
     "text": [
      "(637.2000122070312, 156.0)\n",
      "(85.20000457763672, 156.0)\n"
     ]
    }
   ],
   "source": [
    "for i in match[:1]:\n",
    "   \n",
    "    print(kp1[i.queryIdx].pt)\n",
    "    print(kp2[i.trainIdx].pt)\n",
    "   "
   ]
  },
  {
   "cell_type": "code",
   "execution_count": 47,
   "id": "c6e2c5aa-6ce8-46ef-86e4-5a8c348de712",
   "metadata": {},
   "outputs": [
    {
     "ename": "NameError",
     "evalue": "name 'a' is not defined",
     "output_type": "error",
     "traceback": [
      "\u001b[1;31m---------------------------------------------------------------------------\u001b[0m",
      "\u001b[1;31mNameError\u001b[0m                                 Traceback (most recent call last)",
      "\u001b[1;32m<ipython-input-47-943a5cbfbb53>\u001b[0m in \u001b[0;36m<module>\u001b[1;34m\u001b[0m\n\u001b[1;32m----> 1\u001b[1;33m \u001b[1;33m(\u001b[0m\u001b[0ma\u001b[0m\u001b[1;33m-\u001b[0m\u001b[0mb\u001b[0m\u001b[1;33m)\u001b[0m\u001b[1;33m.\u001b[0m\u001b[0mshape\u001b[0m\u001b[1;33m\u001b[0m\u001b[1;33m\u001b[0m\u001b[0m\n\u001b[0m",
      "\u001b[1;31mNameError\u001b[0m: name 'a' is not defined"
     ]
    }
   ],
   "source": [
    "(a-b).shape"
   ]
  },
  {
   "cell_type": "code",
   "execution_count": 48,
   "id": "7266975e-9a9c-40af-8979-cd7bd91032c9",
   "metadata": {},
   "outputs": [
    {
     "ename": "NameError",
     "evalue": "name 'a' is not defined",
     "output_type": "error",
     "traceback": [
      "\u001b[1;31m---------------------------------------------------------------------------\u001b[0m",
      "\u001b[1;31mNameError\u001b[0m                                 Traceback (most recent call last)",
      "\u001b[1;32m<ipython-input-48-c4a161b46a75>\u001b[0m in \u001b[0;36m<module>\u001b[1;34m\u001b[0m\n\u001b[1;32m----> 1\u001b[1;33m \u001b[1;33m(\u001b[0m\u001b[0ma\u001b[0m\u001b[1;33m-\u001b[0m\u001b[0mb\u001b[0m\u001b[1;33m)\u001b[0m\u001b[1;33m.\u001b[0m\u001b[0msum\u001b[0m\u001b[1;33m(\u001b[0m\u001b[0maxis\u001b[0m\u001b[1;33m=\u001b[0m\u001b[1;36m0\u001b[0m\u001b[1;33m)\u001b[0m\u001b[1;33m[\u001b[0m\u001b[1;36m0\u001b[0m\u001b[1;33m]\u001b[0m\u001b[1;33m\u001b[0m\u001b[1;33m\u001b[0m\u001b[0m\n\u001b[0m",
      "\u001b[1;31mNameError\u001b[0m: name 'a' is not defined"
     ]
    }
   ],
   "source": [
    "(a-b).sum(axis=0)[0]"
   ]
  },
  {
   "cell_type": "code",
   "execution_count": 49,
   "id": "bb83b4ba-ca05-451d-af18-a9bc1ea93e27",
   "metadata": {},
   "outputs": [
    {
     "ename": "NameError",
     "evalue": "name 'a' is not defined",
     "output_type": "error",
     "traceback": [
      "\u001b[1;31m---------------------------------------------------------------------------\u001b[0m",
      "\u001b[1;31mNameError\u001b[0m                                 Traceback (most recent call last)",
      "\u001b[1;32m<ipython-input-49-c7c02e1bef8d>\u001b[0m in \u001b[0;36m<module>\u001b[1;34m\u001b[0m\n\u001b[1;32m----> 1\u001b[1;33m \u001b[1;33m[\u001b[0m\u001b[0mint\u001b[0m\u001b[1;33m(\u001b[0m\u001b[0mlen\u001b[0m\u001b[1;33m(\u001b[0m\u001b[0ma\u001b[0m\u001b[1;33m)\u001b[0m\u001b[1;33m/\u001b[0m\u001b[1;36m2\u001b[0m\u001b[1;33m)\u001b[0m\u001b[1;33m]\u001b[0m\u001b[1;33m\u001b[0m\u001b[1;33m\u001b[0m\u001b[0m\n\u001b[0m",
      "\u001b[1;31mNameError\u001b[0m: name 'a' is not defined"
     ]
    }
   ],
   "source": [
    "[int(len(a)/2)]"
   ]
  },
  {
   "cell_type": "code",
   "execution_count": 50,
   "id": "76a4055c-91ec-44f5-81d7-1e44e7006539",
   "metadata": {},
   "outputs": [
    {
     "data": {
      "text/plain": [
       "(496.0, 58.0)"
      ]
     },
     "execution_count": 50,
     "metadata": {},
     "output_type": "execute_result"
    }
   ],
   "source": [
    "kp1[6].pt"
   ]
  },
  {
   "cell_type": "code",
   "execution_count": 51,
   "id": "208b040a-d8e2-4e21-9731-100de96118ef",
   "metadata": {},
   "outputs": [],
   "source": [
    "import copy"
   ]
  },
  {
   "cell_type": "code",
   "execution_count": 52,
   "id": "c00f7285-f0f6-422a-9a98-ef0b6f4bb2f7",
   "metadata": {},
   "outputs": [],
   "source": [
    "keyp_without_size = copy.copy(img1)\n",
    "keyp_with_size = copy.copy(img1)"
   ]
  },
  {
   "cell_type": "code",
   "execution_count": 53,
   "id": "b42dde03-4c43-447c-a64f-8a1ea46d8b7d",
   "metadata": {},
   "outputs": [
    {
     "data": {
      "text/plain": [
       "array([[[250, 255, 251],\n",
       "        [250, 255, 251],\n",
       "        [250, 255, 251],\n",
       "        ...,\n",
       "        [250, 254, 255],\n",
       "        [250, 253, 255],\n",
       "        [250, 254, 255]],\n",
       "\n",
       "       [[250, 255, 251],\n",
       "        [250, 255, 251],\n",
       "        [250, 255, 251],\n",
       "        ...,\n",
       "        [250, 253, 255],\n",
       "        [250, 253, 255],\n",
       "        [250, 253, 255]],\n",
       "\n",
       "       [[250, 255, 251],\n",
       "        [250, 255, 251],\n",
       "        [250, 255, 251],\n",
       "        ...,\n",
       "        [250, 253, 255],\n",
       "        [250, 253, 255],\n",
       "        [250, 253, 255]],\n",
       "\n",
       "       ...,\n",
       "\n",
       "       [[247, 247, 247],\n",
       "        [247, 247, 247],\n",
       "        [247, 247, 247],\n",
       "        ...,\n",
       "        [247, 247, 247],\n",
       "        [247, 247, 247],\n",
       "        [247, 247, 247]],\n",
       "\n",
       "       [[247, 247, 247],\n",
       "        [247, 247, 247],\n",
       "        [247, 247, 247],\n",
       "        ...,\n",
       "        [247, 247, 247],\n",
       "        [247, 247, 247],\n",
       "        [247, 247, 247]],\n",
       "\n",
       "       [[247, 247, 247],\n",
       "        [247, 247, 247],\n",
       "        [247, 247, 247],\n",
       "        ...,\n",
       "        [247, 247, 247],\n",
       "        [247, 247, 247],\n",
       "        [247, 247, 247]]], dtype=uint8)"
      ]
     },
     "execution_count": 53,
     "metadata": {},
     "output_type": "execute_result"
    }
   ],
   "source": [
    "cv2.drawKeypoints(img1, kp1, keyp_without_size, color = (0, 255, 0))"
   ]
  },
  {
   "cell_type": "code",
   "execution_count": 54,
   "id": "b3d0d6a6-95b8-490e-867b-58ce5757dd18",
   "metadata": {},
   "outputs": [
    {
     "data": {
      "text/plain": [
       "array([[[250, 255, 251],\n",
       "        [250, 255, 251],\n",
       "        [250, 255, 251],\n",
       "        ...,\n",
       "        [250, 254, 255],\n",
       "        [250, 253, 255],\n",
       "        [250, 254, 255]],\n",
       "\n",
       "       [[250, 255, 251],\n",
       "        [250, 255, 251],\n",
       "        [250, 255, 251],\n",
       "        ...,\n",
       "        [250, 253, 255],\n",
       "        [250, 253, 255],\n",
       "        [250, 253, 255]],\n",
       "\n",
       "       [[250, 255, 251],\n",
       "        [250, 255, 251],\n",
       "        [250, 255, 251],\n",
       "        ...,\n",
       "        [250, 253, 255],\n",
       "        [250, 253, 255],\n",
       "        [250, 253, 255]],\n",
       "\n",
       "       ...,\n",
       "\n",
       "       [[247, 247, 247],\n",
       "        [247, 247, 247],\n",
       "        [247, 247, 247],\n",
       "        ...,\n",
       "        [247, 247, 247],\n",
       "        [247, 247, 247],\n",
       "        [247, 247, 247]],\n",
       "\n",
       "       [[247, 247, 247],\n",
       "        [247, 247, 247],\n",
       "        [247, 247, 247],\n",
       "        ...,\n",
       "        [247, 247, 247],\n",
       "        [247, 247, 247],\n",
       "        [247, 247, 247]],\n",
       "\n",
       "       [[247, 247, 247],\n",
       "        [247, 247, 247],\n",
       "        [247, 247, 247],\n",
       "        ...,\n",
       "        [247, 247, 247],\n",
       "        [247, 247, 247],\n",
       "        [247, 247, 247]]], dtype=uint8)"
      ]
     },
     "execution_count": 54,
     "metadata": {},
     "output_type": "execute_result"
    }
   ],
   "source": [
    "cv2.drawKeypoints(img1, kp1, keyp_with_size, flags = cv2.DRAW_MATCHES_FLAGS_DRAW_RICH_KEYPOINTS)"
   ]
  },
  {
   "cell_type": "code",
   "execution_count": 55,
   "id": "5dcd9472-e340-42bc-b656-ccaf78b7f5c5",
   "metadata": {},
   "outputs": [
    {
     "data": {
      "text/plain": [
       "True"
      ]
     },
     "execution_count": 55,
     "metadata": {},
     "output_type": "execute_result"
    },
    {
     "data": {
      "image/png": "[encoded data removed]",
      "text/plain": [
       "<Figure size 432x288 with 1 Axes>"
      ]
     },
     "metadata": {
      "needs_background": "light"
     },
     "output_type": "display_data"
    }
   ],
   "source": [
    "cv2.imwrite('test1.jpg',keyp_without_size)\n",
    "plt.subplot(121)\n",
    "# keyp_without_size = cv2.resize(keyp_without_size,None,fx=4,fy=4)\n",
    "# plt.title('Keypoints Without Size or Orientation')\n",
    "plt.imshow(keyp_without_size)\n",
    "cv2.imwrite('test2.jpg',keyp_with_size)\n",
    "# # Display the image with the keypoints with size and orientation\n",
    "# plt.subplot(122)\n",
    "# plt.title('Keypoints With Size and Orientation')\n",
    "# plt.imshow(keyp_with_size)\n",
    "# plt.show()\n"
   ]
  },
  {
   "cell_type": "code",
   "execution_count": 56,
   "id": "e4fd2fd0-a772-43eb-b199-a7e2441b35e1",
   "metadata": {},
   "outputs": [],
   "source": [
    "up=0\n",
    "down=0\n",
    "left=0\n",
    "right=0"
   ]
  },
  {
   "cell_type": "code",
   "execution_count": 69,
   "id": "a77d46c1-ddb7-44c1-b7fd-63dafec513a7",
   "metadata": {},
   "outputs": [
    {
     "data": {
      "text/plain": [
       "(1334, 750, 3)"
      ]
     },
     "execution_count": 69,
     "metadata": {},
     "output_type": "execute_result"
    }
   ],
   "source": [
    "img1.shape"
   ]
  },
  {
   "cell_type": "code",
   "execution_count": 79,
   "id": "c23d98a2-53a9-4af2-9606-68fc75ae80a8",
   "metadata": {},
   "outputs": [
    {
     "data": {
      "text/plain": [
       "<matplotlib.image.AxesImage at 0x2640d746ee0>"
      ]
     },
     "execution_count": 79,
     "metadata": {},
     "output_type": "execute_result"
    },
    {
     "data": {
      "image/png": "[encoded data removed]",
      "text/plain": [
       "<Figure size 432x288 with 1 Axes>"
      ]
     },
     "metadata": {
      "needs_background": "light"
     },
     "output_type": "display_data"
    }
   ],
   "source": [
    "plt.imshow(img1)"
   ]
  },
  {
   "cell_type": "code",
   "execution_count": 85,
   "id": "93f20f35-3550-497b-9796-829f8af9c043",
   "metadata": {},
   "outputs": [],
   "source": [
    "gap_factor=5 ## num of detection within each second\n",
    "match_ratio=0.3 ##the distance ratio thershold between best match and second match\n",
    "good_match_rate=0.7 ##the rate of matches to be chosen in all\n",
    "ransacReprojThreshold=5\n",
    "min_match_count=5\n",
    "def _AlignImages(img1,img2):\n",
    "    # initiate ORB detector\n",
    "    orb = cv2.ORB_create(5000)\n",
    "    \n",
    "    ##check bilateral banner, eliminate stick part\n",
    "#     up_idx,down_idx=_SplitImage(img1,img2)\n",
    "#     img1 = img1[up_idx:down_idx,:]\n",
    "#     img2= img2[up_dx:down_idx,:]\n",
    "    img1 = img1[210:1200,]\n",
    "    img2 = img2[210:1200,]\n",
    "    \n",
    "    ##find the keypoints and descriptors with ORB\n",
    "    kp1, des1 = orb.detectAndCompute(img1,None)\n",
    "    kp2, des2 = orb.detectAndCompute(img2,None)\n",
    "    \n",
    "    ##match with Brute-Force\n",
    "    bf = cv2.BFMatcher(cv2.NORM_HAMMING)\n",
    "    ##find best 2 matches for each kp\n",
    "    matches = bf.knnMatch(des1, trainDescriptors = des2, k = 2)\n",
    "    ##ratio test\n",
    "    good = [m for (m,n) in matches if m.distance < match_ratio*n.distance]\n",
    "    ##sort and choose the best part of matches\n",
    "#     good = sorted(good, key = lambda x:x.distance)\n",
    "#     good = good[:int(len(good) * good_match_rate)]\n",
    "    \n",
    "    if len(good)>min_match_count:\n",
    "        src_pts = np.float32([ kp1[m.queryIdx].pt for m in good ]).reshape(-1,1,2)\n",
    "        dst_pts = np.float32([ kp2[m.trainIdx].pt for m in good ]).reshape(-1,1,2)\n",
    "        ##find (3x3) transform matrix\n",
    "        M, mask = cv2.findHomography(src_pts, dst_pts, cv2.RANSAC,ransacReprojThreshold)\n",
    "        print(M)\n",
    "        t_x = M[0][2]\n",
    "        t_y = M[1][2]\n",
    "        print(t_x,t_y)\n",
    "        _Pattern(t_x,t_y)\n",
    "        \n",
    "        \n",
    "        \n",
    "def _Pattern(t_x,t_y):\n",
    "    if abs(t_x)<1 and abs(t_y)<1:\n",
    "        print('stop')\n",
    "        return \n",
    "    elif abs(t_x/t_y)>20:\n",
    "        print('left,right')\n",
    "        if (t_x>0):\n",
    "            print('right')\n",
    "        else:\n",
    "            print('left')\n",
    "        return\n",
    "    elif abs(t_y/t_x)>20:\n",
    "#         print('up,down')\n",
    "        if (t_y>0):\n",
    "            print('down')\n",
    "        else:\n",
    "            print('up')\n",
    "        return \n",
    "        \n",
    "    "
   ]
  },
  {
   "cell_type": "code",
   "execution_count": 94,
   "id": "b8075e41-b7ac-4181-ae15-10702ad8473f",
   "metadata": {},
   "outputs": [],
   "source": [
    "import os\n",
    "img1=cv2.imread(os.path.abspath(os.curdir)+'/6.jpg')\n",
    "img2=cv2.imread(os.path.abspath(os.curdir)+'/5.jpg')\n"
   ]
  },
  {
   "cell_type": "code",
   "execution_count": 95,
   "id": "2a4d5789-bd3b-47ff-9328-c7a0b954d5b6",
   "metadata": {},
   "outputs": [],
   "source": [
    "# plt.imshow(img1)\n"
   ]
  },
  {
   "cell_type": "code",
   "execution_count": 96,
   "id": "fc8eebe8-63c9-4e96-bf05-88ae87d0665b",
   "metadata": {},
   "outputs": [],
   "source": [
    "# plt.imshow(img2)"
   ]
  },
  {
   "cell_type": "code",
   "execution_count": 97,
   "id": "2a4f7474-d3e7-42e8-875b-d00c35f28f18",
   "metadata": {},
   "outputs": [
    {
     "name": "stdout",
     "output_type": "stream",
     "text": [
      "[[ 1.00217009e+00 -5.75643484e-04  3.39896640e+02]\n",
      " [ 3.24311048e-03  9.98550301e-01  2.86053372e-02]\n",
      " [ 5.39027348e-06 -2.26625554e-06  1.00000000e+00]]\n",
      "339.8966401944644 0.028605337243081088\n",
      "left,right\n",
      "right\n"
     ]
    }
   ],
   "source": [
    "_AlignImages(img1,img2)"
   ]
  },
  {
   "cell_type": "code",
   "execution_count": null,
   "id": "e31f7639-471f-4b96-af2f-fc5fa2e17d55",
   "metadata": {},
   "outputs": [],
   "source": [
    "orb = cv2.ORB_create(5000)"
   ]
  },
  {
   "cell_type": "code",
   "execution_count": null,
   "id": "5a921e50-c6ee-4c20-b9d1-bf41ec84ff8b",
   "metadata": {},
   "outputs": [],
   "source": [
    "img1 = img1[80:440,:]\n",
    "img2= img2[80:440,:]\n",
    "kp1, des1 = orb.detectAndCompute(img1,None)\n",
    "kp2, des2 = orb.detectAndCompute(img2,None)"
   ]
  },
  {
   "cell_type": "code",
   "execution_count": null,
   "id": "4b1f4ca2-ad3c-4eef-a33b-7b0159b2b599",
   "metadata": {},
   "outputs": [],
   "source": []
  }
 ],
 "metadata": {
  "kernelspec": {
   "display_name": "Python 3",
   "language": "python",
   "name": "python3"
  },
  "language_info": {
   "codemirror_mode": {
    "name": "ipython",
    "version": 3
   },
   "file_extension": ".py",
   "mimetype": "text/x-python",
   "name": "python",
   "nbconvert_exporter": "python",
   "pygments_lexer": "ipython3",
   "version": "3.8.8"
  }
 },
 "nbformat": 4,
 "nbformat_minor": 5
}
